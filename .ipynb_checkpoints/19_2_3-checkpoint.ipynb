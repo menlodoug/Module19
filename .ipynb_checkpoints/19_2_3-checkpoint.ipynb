{
 "cells": [
  {
   "cell_type": "code",
   "execution_count": 1,
   "metadata": {},
   "outputs": [],
   "source": [
    "# Import our dependencies\n",
    "import pandas as pd\n",
    "import matplotlib as plt\n",
    "from sklearn.datasets import make_blobs\n",
    "import sklearn as skl\n",
    "import tensorflow as tf"
   ]
  },
  {
   "cell_type": "code",
   "execution_count": 2,
   "metadata": {},
   "outputs": [
    {
     "data": {
      "text/plain": [
       "<matplotlib.axes._subplots.AxesSubplot at 0x21d9cbb3400>"
      ]
     },
     "execution_count": 2,
     "metadata": {},
     "output_type": "execute_result"
    },
    {
     "data": {
      "image/png": "[encoded data removed]",
      "text/plain": [
       "<Figure size 432x288 with 2 Axes>"
      ]
     },
     "metadata": {
      "needs_background": "light"
     },
     "output_type": "display_data"
    }
   ],
   "source": [
    "# Generate dummy dataset\n",
    "X, y = make_blobs(n_samples=1000, centers=2, n_features=2, random_state=78)\n",
    "\n",
    "# Creating a DataFrame with the dummy data\n",
    "df = pd.DataFrame(X, columns=[\"Feature 1\", \"Feature 2\"])\n",
    "df[\"Target\"] = y\n",
    "\n",
    "# Plotting the dummy data\n",
    "df.plot.scatter(x=\"Feature 1\", y=\"Feature 2\", c=\"Target\", colormap=\"winter\")"
   ]
  },
  {
   "cell_type": "code",
   "execution_count": 3,
   "metadata": {},
   "outputs": [],
   "source": [
    "# Use sklearn to split dataset\n",
    "from sklearn.model_selection import train_test_split\n",
    "X_train, X_test, y_train, y_test = train_test_split(X, y, random_state=78)"
   ]
  },
  {
   "cell_type": "code",
   "execution_count": 4,
   "metadata": {},
   "outputs": [],
   "source": [
    "# Create scaler instance\n",
    "X_scaler = skl.preprocessing.StandardScaler()\n",
    "\n",
    "# Fit the scaler\n",
    "X_scaler.fit(X_train)\n",
    "\n",
    "# Scale the data\n",
    "X_train_scaled = X_scaler.transform(X_train)\n",
    "X_test_scaled = X_scaler.transform(X_test)"
   ]
  },
  {
   "cell_type": "code",
   "execution_count": 5,
   "metadata": {},
   "outputs": [],
   "source": [
    "# Create the Keras Sequential model\n",
    "nn_model = tf.keras.models.Sequential()"
   ]
  },
  {
   "cell_type": "code",
   "execution_count": 6,
   "metadata": {},
   "outputs": [],
   "source": [
    "# Add our first Dense layer, including the input layer\n",
    "nn_model.add(tf.keras.layers.Dense(units=1, activation=\"relu\", input_dim=2))"
   ]
  },
  {
   "cell_type": "code",
   "execution_count": 7,
   "metadata": {},
   "outputs": [],
   "source": [
    "# Add the output layer that uses a probability activation function\n",
    "nn_model.add(tf.keras.layers.Dense(units=1, activation=\"sigmoid\"))"
   ]
  },
  {
   "cell_type": "code",
   "execution_count": 8,
   "metadata": {},
   "outputs": [
    {
     "name": "stdout",
     "output_type": "stream",
     "text": [
      "Model: \"sequential\"\n",
      "_________________________________________________________________\n",
      "Layer (type)                 Output Shape              Param #   \n",
      "=================================================================\n",
      "dense (Dense)                (None, 1)                 3         \n",
      "_________________________________________________________________\n",
      "dense_1 (Dense)              (None, 1)                 2         \n",
      "=================================================================\n",
      "Total params: 5\n",
      "Trainable params: 5\n",
      "Non-trainable params: 0\n",
      "_________________________________________________________________\n"
     ]
    }
   ],
   "source": [
    "# Check the structure of the Sequential model\n",
    "nn_model.summary()"
   ]
  },
  {
   "cell_type": "code",
   "execution_count": 9,
   "metadata": {},
   "outputs": [],
   "source": [
    "# Compile the Sequential model together and customize metrics\n",
    "nn_model.compile(loss=\"binary_crossentropy\", optimizer=\"adam\", metrics=[\"accuracy\"])\n"
   ]
  },
  {
   "cell_type": "code",
   "execution_count": 10,
   "metadata": {},
   "outputs": [
    {
     "name": "stdout",
     "output_type": "stream",
     "text": [
      "Train on 750 samples\n",
      "Epoch 1/100\n",
      "750/750 [==============================] - 1s 782us/sample - loss: 0.6756 - accuracy: 0.6893\n",
      "Epoch 2/100\n",
      "750/750 [==============================] - 0s 47us/sample - loss: 0.6713 - accuracy: 0.7067\n",
      "Epoch 3/100\n",
      "750/750 [==============================] - 0s 44us/sample - loss: 0.6665 - accuracy: 0.7173\n",
      "Epoch 4/100\n",
      "750/750 [==============================] - 0s 45us/sample - loss: 0.6608 - accuracy: 0.7320\n",
      "Epoch 5/100\n",
      "750/750 [==============================] - 0s 47us/sample - loss: 0.6545 - accuracy: 0.7493\n",
      "Epoch 6/100\n",
      "750/750 [==============================] - 0s 47us/sample - loss: 0.6474 - accuracy: 0.7627\n",
      "Epoch 7/100\n",
      "750/750 [==============================] - 0s 44us/sample - loss: 0.6393 - accuracy: 0.7760\n",
      "Epoch 8/100\n",
      "750/750 [==============================] - 0s 52us/sample - loss: 0.6307 - accuracy: 0.7867\n",
      "Epoch 9/100\n",
      "750/750 [==============================] - 0s 50us/sample - loss: 0.6213 - accuracy: 0.7987\n",
      "Epoch 10/100\n",
      "750/750 [==============================] - 0s 50us/sample - loss: 0.6112 - accuracy: 0.8093\n",
      "Epoch 11/100\n",
      "750/750 [==============================] - 0s 50us/sample - loss: 0.6005 - accuracy: 0.8267\n",
      "Epoch 12/100\n",
      "750/750 [==============================] - 0s 68us/sample - loss: 0.5897 - accuracy: 0.8360\n",
      "Epoch 13/100\n",
      "750/750 [==============================] - 0s 53us/sample - loss: 0.5785 - accuracy: 0.8440\n",
      "Epoch 14/100\n",
      "750/750 [==============================] - 0s 59us/sample - loss: 0.5670 - accuracy: 0.8507\n",
      "Epoch 15/100\n",
      "750/750 [==============================] - 0s 50us/sample - loss: 0.5552 - accuracy: 0.8560\n",
      "Epoch 16/100\n",
      "750/750 [==============================] - 0s 51us/sample - loss: 0.5433 - accuracy: 0.8587\n",
      "Epoch 17/100\n",
      "750/750 [==============================] - 0s 56us/sample - loss: 0.5314 - accuracy: 0.8653\n",
      "Epoch 18/100\n",
      "750/750 [==============================] - 0s 48us/sample - loss: 0.5197 - accuracy: 0.8667\n",
      "Epoch 19/100\n",
      "750/750 [==============================] - 0s 53us/sample - loss: 0.5079 - accuracy: 0.8760\n",
      "Epoch 20/100\n",
      "750/750 [==============================] - 0s 50us/sample - loss: 0.4964 - accuracy: 0.8813\n",
      "Epoch 21/100\n",
      "750/750 [==============================] - 0s 49us/sample - loss: 0.4850 - accuracy: 0.8880\n",
      "Epoch 22/100\n",
      "750/750 [==============================] - 0s 50us/sample - loss: 0.4739 - accuracy: 0.9013\n",
      "Epoch 23/100\n",
      "750/750 [==============================] - 0s 49us/sample - loss: 0.4630 - accuracy: 0.9027\n",
      "Epoch 24/100\n",
      "750/750 [==============================] - 0s 49us/sample - loss: 0.4525 - accuracy: 0.9027\n",
      "Epoch 25/100\n",
      "750/750 [==============================] - 0s 49us/sample - loss: 0.4420 - accuracy: 0.9093\n",
      "Epoch 26/100\n",
      "750/750 [==============================] - 0s 52us/sample - loss: 0.4318 - accuracy: 0.9107\n",
      "Epoch 27/100\n",
      "750/750 [==============================] - 0s 49us/sample - loss: 0.4219 - accuracy: 0.9160\n",
      "Epoch 28/100\n",
      "750/750 [==============================] - 0s 49us/sample - loss: 0.4122 - accuracy: 0.9200\n",
      "Epoch 29/100\n",
      "750/750 [==============================] - 0s 53us/sample - loss: 0.4029 - accuracy: 0.9200\n",
      "Epoch 30/100\n",
      "750/750 [==============================] - 0s 51us/sample - loss: 0.3937 - accuracy: 0.9213\n",
      "Epoch 31/100\n",
      "750/750 [==============================] - 0s 48us/sample - loss: 0.3847 - accuracy: 0.9253\n",
      "Epoch 32/100\n",
      "750/750 [==============================] - 0s 53us/sample - loss: 0.3761 - accuracy: 0.9293\n",
      "Epoch 33/100\n",
      "750/750 [==============================] - 0s 49us/sample - loss: 0.3676 - accuracy: 0.9307\n",
      "Epoch 34/100\n",
      "750/750 [==============================] - 0s 49us/sample - loss: 0.3594 - accuracy: 0.9320\n",
      "Epoch 35/100\n",
      "750/750 [==============================] - 0s 53us/sample - loss: 0.3515 - accuracy: 0.9320\n",
      "Epoch 36/100\n",
      "750/750 [==============================] - 0s 49us/sample - loss: 0.3437 - accuracy: 0.9333\n",
      "Epoch 37/100\n",
      "750/750 [==============================] - 0s 51us/sample - loss: 0.3362 - accuracy: 0.9400\n",
      "Epoch 38/100\n",
      "750/750 [==============================] - 0s 53us/sample - loss: 0.3287 - accuracy: 0.9440\n",
      "Epoch 39/100\n",
      "750/750 [==============================] - 0s 51us/sample - loss: 0.3214 - accuracy: 0.9453\n",
      "Epoch 40/100\n",
      "750/750 [==============================] - 0s 51us/sample - loss: 0.3144 - accuracy: 0.9467\n",
      "Epoch 41/100\n",
      "750/750 [==============================] - 0s 54us/sample - loss: 0.3075 - accuracy: 0.9480\n",
      "Epoch 42/100\n",
      "750/750 [==============================] - 0s 50us/sample - loss: 0.3007 - accuracy: 0.9507\n",
      "Epoch 43/100\n",
      "750/750 [==============================] - 0s 51us/sample - loss: 0.2941 - accuracy: 0.9520\n",
      "Epoch 44/100\n",
      "750/750 [==============================] - 0s 55us/sample - loss: 0.2877 - accuracy: 0.9547\n",
      "Epoch 45/100\n",
      "750/750 [==============================] - 0s 49us/sample - loss: 0.2814 - accuracy: 0.9547\n",
      "Epoch 46/100\n",
      "750/750 [==============================] - 0s 54us/sample - loss: 0.2753 - accuracy: 0.9560\n",
      "Epoch 47/100\n",
      "750/750 [==============================] - 0s 49us/sample - loss: 0.2693 - accuracy: 0.9573\n",
      "Epoch 48/100\n",
      "750/750 [==============================] - 0s 50us/sample - loss: 0.2634 - accuracy: 0.9573\n",
      "Epoch 49/100\n",
      "750/750 [==============================] - 0s 53us/sample - loss: 0.2577 - accuracy: 0.9587\n",
      "Epoch 50/100\n",
      "750/750 [==============================] - 0s 52us/sample - loss: 0.2522 - accuracy: 0.9600\n",
      "Epoch 51/100\n",
      "750/750 [==============================] - 0s 49us/sample - loss: 0.2467 - accuracy: 0.9640\n",
      "Epoch 52/100\n",
      "750/750 [==============================] - 0s 53us/sample - loss: 0.2415 - accuracy: 0.9653\n",
      "Epoch 53/100\n",
      "750/750 [==============================] - 0s 53us/sample - loss: 0.2363 - accuracy: 0.9653\n",
      "Epoch 54/100\n",
      "750/750 [==============================] - 0s 51us/sample - loss: 0.2311 - accuracy: 0.9653\n",
      "Epoch 55/100\n",
      "750/750 [==============================] - 0s 50us/sample - loss: 0.2262 - accuracy: 0.9680\n",
      "Epoch 56/100\n",
      "750/750 [==============================] - 0s 49us/sample - loss: 0.2213 - accuracy: 0.9693\n",
      "Epoch 57/100\n",
      "750/750 [==============================] - 0s 47us/sample - loss: 0.2164 - accuracy: 0.9693\n",
      "Epoch 58/100\n",
      "750/750 [==============================] - 0s 45us/sample - loss: 0.2117 - accuracy: 0.9720\n",
      "Epoch 59/100\n",
      "750/750 [==============================] - 0s 50us/sample - loss: 0.2071 - accuracy: 0.9720\n",
      "Epoch 60/100\n",
      "750/750 [==============================] - 0s 49us/sample - loss: 0.2026 - accuracy: 0.9720\n",
      "Epoch 61/100\n",
      "750/750 [==============================] - 0s 48us/sample - loss: 0.1983 - accuracy: 0.9747\n",
      "Epoch 62/100\n",
      "750/750 [==============================] - 0s 48us/sample - loss: 0.1940 - accuracy: 0.9787\n",
      "Epoch 63/100\n",
      "750/750 [==============================] - 0s 49us/sample - loss: 0.1898 - accuracy: 0.9787\n",
      "Epoch 64/100\n",
      "750/750 [==============================] - 0s 53us/sample - loss: 0.1858 - accuracy: 0.9813\n",
      "Epoch 65/100\n",
      "750/750 [==============================] - 0s 49us/sample - loss: 0.1818 - accuracy: 0.9813\n",
      "Epoch 66/100\n",
      "750/750 [==============================] - 0s 51us/sample - loss: 0.1780 - accuracy: 0.9827\n",
      "Epoch 67/100\n",
      "750/750 [==============================] - 0s 47us/sample - loss: 0.1742 - accuracy: 0.9867\n",
      "Epoch 68/100\n",
      "750/750 [==============================] - 0s 48us/sample - loss: 0.1705 - accuracy: 0.9867\n",
      "Epoch 69/100\n",
      "750/750 [==============================] - 0s 59us/sample - loss: 0.1669 - accuracy: 0.9880\n",
      "Epoch 70/100\n",
      "750/750 [==============================] - 0s 47us/sample - loss: 0.1634 - accuracy: 0.9907\n",
      "Epoch 71/100\n",
      "750/750 [==============================] - 0s 46us/sample - loss: 0.1599 - accuracy: 0.9907\n",
      "Epoch 72/100\n",
      "750/750 [==============================] - 0s 51us/sample - loss: 0.1566 - accuracy: 0.9920\n",
      "Epoch 73/100\n",
      "750/750 [==============================] - 0s 50us/sample - loss: 0.1533 - accuracy: 0.9920\n",
      "Epoch 74/100\n",
      "750/750 [==============================] - 0s 49us/sample - loss: 0.1502 - accuracy: 0.9920\n",
      "Epoch 75/100\n",
      "750/750 [==============================] - 0s 47us/sample - loss: 0.1471 - accuracy: 0.9920\n",
      "Epoch 76/100\n",
      "750/750 [==============================] - 0s 48us/sample - loss: 0.1440 - accuracy: 0.9933\n",
      "Epoch 77/100\n",
      "750/750 [==============================] - 0s 48us/sample - loss: 0.1411 - accuracy: 0.9933\n",
      "Epoch 78/100\n"
     ]
    },
    {
     "name": "stdout",
     "output_type": "stream",
     "text": [
      "750/750 [==============================] - 0s 47us/sample - loss: 0.1382 - accuracy: 0.9933\n",
      "Epoch 79/100\n",
      "750/750 [==============================] - 0s 44us/sample - loss: 0.1354 - accuracy: 0.9933\n",
      "Epoch 80/100\n",
      "750/750 [==============================] - 0s 43us/sample - loss: 0.1327 - accuracy: 0.9933\n",
      "Epoch 81/100\n",
      "750/750 [==============================] - 0s 47us/sample - loss: 0.1300 - accuracy: 0.9947\n",
      "Epoch 82/100\n",
      "750/750 [==============================] - 0s 45us/sample - loss: 0.1275 - accuracy: 0.9960\n",
      "Epoch 83/100\n",
      "750/750 [==============================] - 0s 43us/sample - loss: 0.1249 - accuracy: 0.9960\n",
      "Epoch 84/100\n",
      "750/750 [==============================] - 0s 44us/sample - loss: 0.1225 - accuracy: 0.9960\n",
      "Epoch 85/100\n",
      "750/750 [==============================] - 0s 46us/sample - loss: 0.1201 - accuracy: 0.9960\n",
      "Epoch 86/100\n",
      "750/750 [==============================] - 0s 45us/sample - loss: 0.1177 - accuracy: 0.9960\n",
      "Epoch 87/100\n",
      "750/750 [==============================] - 0s 45us/sample - loss: 0.1154 - accuracy: 0.9960\n",
      "Epoch 88/100\n",
      "750/750 [==============================] - 0s 45us/sample - loss: 0.1132 - accuracy: 0.9960\n",
      "Epoch 89/100\n",
      "750/750 [==============================] - 0s 45us/sample - loss: 0.1110 - accuracy: 0.9960\n",
      "Epoch 90/100\n",
      "750/750 [==============================] - 0s 46us/sample - loss: 0.1089 - accuracy: 0.9960\n",
      "Epoch 91/100\n",
      "750/750 [==============================] - 0s 47us/sample - loss: 0.1069 - accuracy: 0.9960\n",
      "Epoch 92/100\n",
      "750/750 [==============================] - 0s 45us/sample - loss: 0.1048 - accuracy: 0.9960\n",
      "Epoch 93/100\n",
      "750/750 [==============================] - 0s 47us/sample - loss: 0.1029 - accuracy: 0.9960\n",
      "Epoch 94/100\n",
      "750/750 [==============================] - 0s 47us/sample - loss: 0.1009 - accuracy: 0.9960\n",
      "Epoch 95/100\n",
      "750/750 [==============================] - 0s 45us/sample - loss: 0.0991 - accuracy: 0.9960\n",
      "Epoch 96/100\n",
      "750/750 [==============================] - 0s 45us/sample - loss: 0.0972 - accuracy: 0.9960\n",
      "Epoch 97/100\n",
      "750/750 [==============================] - 0s 48us/sample - loss: 0.0954 - accuracy: 0.9960\n",
      "Epoch 98/100\n",
      "750/750 [==============================] - 0s 44us/sample - loss: 0.0937 - accuracy: 0.9960\n",
      "Epoch 99/100\n",
      "750/750 [==============================] - 0s 44us/sample - loss: 0.0920 - accuracy: 0.9960\n",
      "Epoch 100/100\n",
      "750/750 [==============================] - 0s 47us/sample - loss: 0.0903 - accuracy: 0.9960\n"
     ]
    }
   ],
   "source": [
    "# Fit the model to the training data\n",
    "fit_model = nn_model.fit(X_train_scaled, y_train, epochs=100)"
   ]
  },
  {
   "cell_type": "code",
   "execution_count": 11,
   "metadata": {},
   "outputs": [
    {
     "data": {
      "text/plain": [
       "<matplotlib.axes._subplots.AxesSubplot at 0x21d9e5d70f0>"
      ]
     },
     "execution_count": 11,
     "metadata": {},
     "output_type": "execute_result"
    },
    {
     "data": {
      "image/png": "[encoded data removed]",
      "text/plain": [
       "<Figure size 432x288 with 1 Axes>"
      ]
     },
     "metadata": {
      "needs_background": "light"
     },
     "output_type": "display_data"
    }
   ],
   "source": [
    "# Create a DataFrame containing training history\n",
    "history_df = pd.DataFrame(fit_model.history, index=range(1,len(fit_model.history[\"loss\"])+1))\n",
    "\n",
    "# Plot the loss\n",
    "history_df.plot(y=\"loss\")"
   ]
  },
  {
   "cell_type": "code",
   "execution_count": 12,
   "metadata": {},
   "outputs": [
    {
     "data": {
      "text/plain": [
       "<matplotlib.axes._subplots.AxesSubplot at 0x21d9e65b4e0>"
      ]
     },
     "execution_count": 12,
     "metadata": {},
     "output_type": "execute_result"
    },
    {
     "data": {
      "image/png": "[encoded data removed]",
      "text/plain": [
       "<Figure size 432x288 with 1 Axes>"
      ]
     },
     "metadata": {
      "needs_background": "light"
     },
     "output_type": "display_data"
    }
   ],
   "source": [
    "# Plot the accuracy\n",
    "history_df.plot(y=\"accuracy\")"
   ]
  },
  {
   "cell_type": "code",
   "execution_count": 13,
   "metadata": {},
   "outputs": [
    {
     "name": "stdout",
     "output_type": "stream",
     "text": [
      "250/250 - 0s - loss: 0.0894 - accuracy: 1.0000\n",
      "Loss: 0.0893509248495102, Accuracy: 1.0\n"
     ]
    }
   ],
   "source": [
    "# Evaluate the model using the test data\n",
    "model_loss, model_accuracy = nn_model.evaluate(X_test_scaled,y_test,verbose=2)\n",
    "print(f\"Loss: {model_loss}, Accuracy: {model_accuracy}\")"
   ]
  },
  {
   "cell_type": "code",
   "execution_count": 14,
   "metadata": {},
   "outputs": [
    {
     "data": {
      "text/plain": [
       "array([[0],\n",
       "       [1],\n",
       "       [0],\n",
       "       [1],\n",
       "       [0],\n",
       "       [0],\n",
       "       [1],\n",
       "       [1],\n",
       "       [1],\n",
       "       [0]])"
      ]
     },
     "execution_count": 14,
     "metadata": {},
     "output_type": "execute_result"
    }
   ],
   "source": [
    "# Predict the classification of a new set of blob data\n",
    "new_X, new_Y = make_blobs(n_samples=10, centers=2, n_features=2, random_state=78)\n",
    "new_X_scaled = X_scaler.transform(new_X)\n",
    "nn_model.predict_classes(new_X_scaled)"
   ]
  },
  {
   "cell_type": "code",
   "execution_count": 15,
   "metadata": {},
   "outputs": [
    {
     "data": {
      "text/plain": [
       "<matplotlib.axes._subplots.AxesSubplot at 0x21d9e6e19e8>"
      ]
     },
     "execution_count": 15,
     "metadata": {},
     "output_type": "execute_result"
    },
    {
     "data": {
      "image/png": "[encoded data removed]",
      "text/plain": [
       "<Figure size 432x288 with 2 Axes>"
      ]
     },
     "metadata": {
      "needs_background": "light"
     },
     "output_type": "display_data"
    }
   ],
   "source": [
    "from sklearn.datasets import make_moons\n",
    "\n",
    "# Creating dummy nonlinear data\n",
    "X_moons, y_moons = make_moons(n_samples=1000, noise=0.08, random_state=78)\n",
    "\n",
    "# Transforming y_moons to a vertical vector\n",
    "y_moons = y_moons.reshape(-1, 1)\n",
    "\n",
    "# Creating a DataFrame to plot the nonlinear dummy data\n",
    "df_moons = pd.DataFrame(X_moons, columns=[\"Feature 1\", \"Feature 2\"])\n",
    "df_moons[\"Target\"] = y_moons\n",
    "\n",
    "# Plot the nonlinear dummy data\n",
    "df_moons.plot.scatter(x=\"Feature 1\",y=\"Feature 2\", c=\"Target\",colormap=\"winter\")"
   ]
  },
  {
   "cell_type": "code",
   "execution_count": 16,
   "metadata": {},
   "outputs": [],
   "source": [
    "# Create training and testing sets\n",
    "X_moon_train, X_moon_test, y_moon_train, y_moon_test = train_test_split(\n",
    "    X_moons, y_moons, random_state=78\n",
    ")\n",
    "\n",
    "# Create the scaler instance\n",
    "X_moon_scaler = skl.preprocessing.StandardScaler()\n",
    "\n",
    "# Fit the scaler\n",
    "X_moon_scaler.fit(X_moon_train)\n",
    "\n",
    "# Scale the data\n",
    "X_moon_train_scaled = X_moon_scaler.transform(X_moon_train)\n",
    "X_moon_test_scaled = X_moon_scaler.transform(X_moon_test)"
   ]
  },
  {
   "cell_type": "code",
   "execution_count": 17,
   "metadata": {},
   "outputs": [
    {
     "name": "stdout",
     "output_type": "stream",
     "text": [
      "Train on 750 samples\n",
      "Epoch 1/100\n",
      "750/750 [==============================] - 0s 471us/sample - loss: 1.3291 - accuracy: 0.3653\n",
      "Epoch 2/100\n",
      "750/750 [==============================] - 0s 43us/sample - loss: 1.1840 - accuracy: 0.3827\n",
      "Epoch 3/100\n",
      "750/750 [==============================] - 0s 48us/sample - loss: 1.0844 - accuracy: 0.4013\n",
      "Epoch 4/100\n",
      "750/750 [==============================] - 0s 44us/sample - loss: 1.0149 - accuracy: 0.4200\n",
      "Epoch 5/100\n",
      "750/750 [==============================] - 0s 48us/sample - loss: 0.9648 - accuracy: 0.4387\n",
      "Epoch 6/100\n",
      "750/750 [==============================] - 0s 49us/sample - loss: 0.9243 - accuracy: 0.4520\n",
      "Epoch 7/100\n",
      "750/750 [==============================] - 0s 47us/sample - loss: 0.8910 - accuracy: 0.4613\n",
      "Epoch 8/100\n",
      "750/750 [==============================] - 0s 53us/sample - loss: 0.8624 - accuracy: 0.4707\n",
      "Epoch 9/100\n",
      "750/750 [==============================] - 0s 52us/sample - loss: 0.8366 - accuracy: 0.4773\n",
      "Epoch 10/100\n",
      "750/750 [==============================] - 0s 51us/sample - loss: 0.8143 - accuracy: 0.4907\n",
      "Epoch 11/100\n",
      "750/750 [==============================] - 0s 50us/sample - loss: 0.7934 - accuracy: 0.4973\n",
      "Epoch 12/100\n",
      "750/750 [==============================] - 0s 54us/sample - loss: 0.7742 - accuracy: 0.5053\n",
      "Epoch 13/100\n",
      "750/750 [==============================] - 0s 49us/sample - loss: 0.7562 - accuracy: 0.5173\n",
      "Epoch 14/100\n",
      "750/750 [==============================] - 0s 51us/sample - loss: 0.7395 - accuracy: 0.5187\n",
      "Epoch 15/100\n",
      "750/750 [==============================] - 0s 53us/sample - loss: 0.7234 - accuracy: 0.5360\n",
      "Epoch 16/100\n",
      "750/750 [==============================] - 0s 54us/sample - loss: 0.7086 - accuracy: 0.5480\n",
      "Epoch 17/100\n",
      "750/750 [==============================] - 0s 69us/sample - loss: 0.6942 - accuracy: 0.5560\n",
      "Epoch 18/100\n",
      "750/750 [==============================] - 0s 57us/sample - loss: 0.6808 - accuracy: 0.5640\n",
      "Epoch 19/100\n",
      "750/750 [==============================] - 0s 51us/sample - loss: 0.6683 - accuracy: 0.5733\n",
      "Epoch 20/100\n",
      "750/750 [==============================] - 0s 50us/sample - loss: 0.6561 - accuracy: 0.5787\n",
      "Epoch 21/100\n",
      "750/750 [==============================] - 0s 49us/sample - loss: 0.6444 - accuracy: 0.5867\n",
      "Epoch 22/100\n",
      "750/750 [==============================] - 0s 55us/sample - loss: 0.6336 - accuracy: 0.5880\n",
      "Epoch 23/100\n",
      "750/750 [==============================] - 0s 52us/sample - loss: 0.6232 - accuracy: 0.5960\n",
      "Epoch 24/100\n",
      "750/750 [==============================] - 0s 53us/sample - loss: 0.6131 - accuracy: 0.6053\n",
      "Epoch 25/100\n",
      "750/750 [==============================] - 0s 51us/sample - loss: 0.6036 - accuracy: 0.6107\n",
      "Epoch 26/100\n",
      "750/750 [==============================] - 0s 52us/sample - loss: 0.5944 - accuracy: 0.6173\n",
      "Epoch 27/100\n",
      "750/750 [==============================] - 0s 54us/sample - loss: 0.5856 - accuracy: 0.6253\n",
      "Epoch 28/100\n",
      "750/750 [==============================] - 0s 50us/sample - loss: 0.5773 - accuracy: 0.6320\n",
      "Epoch 29/100\n",
      "750/750 [==============================] - 0s 52us/sample - loss: 0.5691 - accuracy: 0.6373\n",
      "Epoch 30/100\n",
      "750/750 [==============================] - 0s 52us/sample - loss: 0.5614 - accuracy: 0.6467\n",
      "Epoch 31/100\n",
      "750/750 [==============================] - 0s 52us/sample - loss: 0.5541 - accuracy: 0.6507\n",
      "Epoch 32/100\n",
      "750/750 [==============================] - 0s 53us/sample - loss: 0.5469 - accuracy: 0.6533\n",
      "Epoch 33/100\n",
      "750/750 [==============================] - 0s 51us/sample - loss: 0.5400 - accuracy: 0.6613\n",
      "Epoch 34/100\n",
      "750/750 [==============================] - 0s 50us/sample - loss: 0.5333 - accuracy: 0.6667\n",
      "Epoch 35/100\n",
      "750/750 [==============================] - 0s 53us/sample - loss: 0.5269 - accuracy: 0.6733\n",
      "Epoch 36/100\n",
      "750/750 [==============================] - 0s 48us/sample - loss: 0.5208 - accuracy: 0.6760\n",
      "Epoch 37/100\n",
      "750/750 [==============================] - 0s 51us/sample - loss: 0.5146 - accuracy: 0.6853\n",
      "Epoch 38/100\n",
      "750/750 [==============================] - 0s 55us/sample - loss: 0.5090 - accuracy: 0.6880\n",
      "Epoch 39/100\n",
      "750/750 [==============================] - 0s 49us/sample - loss: 0.5032 - accuracy: 0.6920\n",
      "Epoch 40/100\n",
      "750/750 [==============================] - 0s 49us/sample - loss: 0.4980 - accuracy: 0.7000\n",
      "Epoch 41/100\n",
      "750/750 [==============================] - 0s 55us/sample - loss: 0.4923 - accuracy: 0.7013\n",
      "Epoch 42/100\n",
      "750/750 [==============================] - 0s 48us/sample - loss: 0.4871 - accuracy: 0.7040\n",
      "Epoch 43/100\n",
      "750/750 [==============================] - 0s 51us/sample - loss: 0.4818 - accuracy: 0.7093\n",
      "Epoch 44/100\n",
      "750/750 [==============================] - 0s 53us/sample - loss: 0.4768 - accuracy: 0.7147\n",
      "Epoch 45/100\n",
      "750/750 [==============================] - 0s 61us/sample - loss: 0.4717 - accuracy: 0.7173\n",
      "Epoch 46/100\n",
      "750/750 [==============================] - 0s 64us/sample - loss: 0.4668 - accuracy: 0.7200\n",
      "Epoch 47/100\n",
      "750/750 [==============================] - 0s 54us/sample - loss: 0.4621 - accuracy: 0.7280\n",
      "Epoch 48/100\n",
      "750/750 [==============================] - 0s 55us/sample - loss: 0.4573 - accuracy: 0.7307\n",
      "Epoch 49/100\n",
      "750/750 [==============================] - 0s 55us/sample - loss: 0.4526 - accuracy: 0.7333\n",
      "Epoch 50/100\n",
      "750/750 [==============================] - 0s 56us/sample - loss: 0.4480 - accuracy: 0.7360\n",
      "Epoch 51/100\n",
      "750/750 [==============================] - 0s 52us/sample - loss: 0.4434 - accuracy: 0.7453\n",
      "Epoch 52/100\n",
      "750/750 [==============================] - 0s 49us/sample - loss: 0.4388 - accuracy: 0.7507\n",
      "Epoch 53/100\n",
      "750/750 [==============================] - 0s 54us/sample - loss: 0.4343 - accuracy: 0.7533\n",
      "Epoch 54/100\n",
      "750/750 [==============================] - 0s 50us/sample - loss: 0.4299 - accuracy: 0.7587\n",
      "Epoch 55/100\n",
      "750/750 [==============================] - 0s 51us/sample - loss: 0.4255 - accuracy: 0.7613\n",
      "Epoch 56/100\n",
      "750/750 [==============================] - 0s 52us/sample - loss: 0.4212 - accuracy: 0.7667\n",
      "Epoch 57/100\n",
      "750/750 [==============================] - 0s 51us/sample - loss: 0.4169 - accuracy: 0.7693\n",
      "Epoch 58/100\n",
      "750/750 [==============================] - 0s 51us/sample - loss: 0.4127 - accuracy: 0.7747\n",
      "Epoch 59/100\n",
      "750/750 [==============================] - 0s 52us/sample - loss: 0.4086 - accuracy: 0.7773\n",
      "Epoch 60/100\n",
      "750/750 [==============================] - 0s 51us/sample - loss: 0.4043 - accuracy: 0.7840\n",
      "Epoch 61/100\n",
      "750/750 [==============================] - 0s 52us/sample - loss: 0.4002 - accuracy: 0.7867\n",
      "Epoch 62/100\n",
      "750/750 [==============================] - 0s 52us/sample - loss: 0.3962 - accuracy: 0.7880\n",
      "Epoch 63/100\n",
      "750/750 [==============================] - 0s 53us/sample - loss: 0.3920 - accuracy: 0.7933\n",
      "Epoch 64/100\n",
      "750/750 [==============================] - 0s 51us/sample - loss: 0.3880 - accuracy: 0.8027\n",
      "Epoch 65/100\n",
      "750/750 [==============================] - 0s 52us/sample - loss: 0.3841 - accuracy: 0.8053\n",
      "Epoch 66/100\n",
      "750/750 [==============================] - 0s 51us/sample - loss: 0.3801 - accuracy: 0.8053\n",
      "Epoch 67/100\n",
      "750/750 [==============================] - 0s 50us/sample - loss: 0.3762 - accuracy: 0.8093\n",
      "Epoch 68/100\n",
      "750/750 [==============================] - 0s 51us/sample - loss: 0.3725 - accuracy: 0.8093\n",
      "Epoch 69/100\n",
      "750/750 [==============================] - 0s 51us/sample - loss: 0.3689 - accuracy: 0.8133\n",
      "Epoch 70/100\n",
      "750/750 [==============================] - 0s 51us/sample - loss: 0.3652 - accuracy: 0.8160\n",
      "Epoch 71/100\n",
      "750/750 [==============================] - 0s 49us/sample - loss: 0.3619 - accuracy: 0.8213\n",
      "Epoch 72/100\n",
      "750/750 [==============================] - 0s 48us/sample - loss: 0.3585 - accuracy: 0.8227\n",
      "Epoch 73/100\n",
      "750/750 [==============================] - 0s 47us/sample - loss: 0.3553 - accuracy: 0.8227\n",
      "Epoch 74/100\n",
      "750/750 [==============================] - 0s 49us/sample - loss: 0.3522 - accuracy: 0.8240\n",
      "Epoch 75/100\n",
      "750/750 [==============================] - 0s 51us/sample - loss: 0.3491 - accuracy: 0.8240\n",
      "Epoch 76/100\n",
      "750/750 [==============================] - 0s 50us/sample - loss: 0.3461 - accuracy: 0.8253\n",
      "Epoch 77/100\n",
      "750/750 [==============================] - 0s 52us/sample - loss: 0.3432 - accuracy: 0.8267\n",
      "Epoch 78/100\n"
     ]
    },
    {
     "name": "stdout",
     "output_type": "stream",
     "text": [
      "750/750 [==============================] - 0s 51us/sample - loss: 0.3403 - accuracy: 0.8280\n",
      "Epoch 79/100\n",
      "750/750 [==============================] - 0s 51us/sample - loss: 0.3375 - accuracy: 0.8280\n",
      "Epoch 80/100\n",
      "750/750 [==============================] - 0s 49us/sample - loss: 0.3348 - accuracy: 0.8293\n",
      "Epoch 81/100\n",
      "750/750 [==============================] - 0s 52us/sample - loss: 0.3322 - accuracy: 0.8347\n",
      "Epoch 82/100\n",
      "750/750 [==============================] - 0s 50us/sample - loss: 0.3297 - accuracy: 0.8373\n",
      "Epoch 83/100\n",
      "750/750 [==============================] - 0s 50us/sample - loss: 0.3273 - accuracy: 0.8387\n",
      "Epoch 84/100\n",
      "750/750 [==============================] - 0s 51us/sample - loss: 0.3250 - accuracy: 0.8387\n",
      "Epoch 85/100\n",
      "750/750 [==============================] - 0s 51us/sample - loss: 0.3228 - accuracy: 0.8427\n",
      "Epoch 86/100\n",
      "750/750 [==============================] - 0s 49us/sample - loss: 0.3206 - accuracy: 0.8453\n",
      "Epoch 87/100\n",
      "750/750 [==============================] - 0s 50us/sample - loss: 0.3185 - accuracy: 0.8493\n",
      "Epoch 88/100\n",
      "750/750 [==============================] - 0s 52us/sample - loss: 0.3166 - accuracy: 0.8493\n",
      "Epoch 89/100\n",
      "750/750 [==============================] - 0s 48us/sample - loss: 0.3145 - accuracy: 0.8507\n",
      "Epoch 90/100\n",
      "750/750 [==============================] - 0s 48us/sample - loss: 0.3126 - accuracy: 0.8520\n",
      "Epoch 91/100\n",
      "750/750 [==============================] - 0s 52us/sample - loss: 0.3109 - accuracy: 0.8560\n",
      "Epoch 92/100\n",
      "750/750 [==============================] - 0s 49us/sample - loss: 0.3092 - accuracy: 0.8560\n",
      "Epoch 93/100\n",
      "750/750 [==============================] - 0s 51us/sample - loss: 0.3075 - accuracy: 0.8560\n",
      "Epoch 94/100\n",
      "750/750 [==============================] - 0s 49us/sample - loss: 0.3057 - accuracy: 0.8587\n",
      "Epoch 95/100\n",
      "750/750 [==============================] - 0s 51us/sample - loss: 0.3040 - accuracy: 0.8600\n",
      "Epoch 96/100\n",
      "750/750 [==============================] - 0s 49us/sample - loss: 0.3025 - accuracy: 0.8627\n",
      "Epoch 97/100\n",
      "750/750 [==============================] - 0s 49us/sample - loss: 0.3008 - accuracy: 0.8640\n",
      "Epoch 98/100\n",
      "750/750 [==============================] - 0s 50us/sample - loss: 0.2994 - accuracy: 0.8653\n",
      "Epoch 99/100\n",
      "750/750 [==============================] - 0s 49us/sample - loss: 0.2980 - accuracy: 0.8653\n",
      "Epoch 100/100\n",
      "750/750 [==============================] - 0s 51us/sample - loss: 0.2966 - accuracy: 0.8667\n"
     ]
    }
   ],
   "source": [
    "# Training the model with the nonlinear data\n",
    "model_moon = nn_model.fit(X_moon_train_scaled, y_moon_train, epochs=100, shuffle=True)\n"
   ]
  },
  {
   "cell_type": "code",
   "execution_count": 18,
   "metadata": {},
   "outputs": [
    {
     "data": {
      "text/plain": [
       "<matplotlib.axes._subplots.AxesSubplot at 0x21d9eb598d0>"
      ]
     },
     "execution_count": 18,
     "metadata": {},
     "output_type": "execute_result"
    },
    {
     "data": {
      "image/png": "[encoded data removed]",
      "text/plain": [
       "<Figure size 432x288 with 1 Axes>"
      ]
     },
     "metadata": {
      "needs_background": "light"
     },
     "output_type": "display_data"
    }
   ],
   "source": [
    "# Create a DataFrame containing training history\n",
    "history_df = pd.DataFrame(model_moon.history, index=range(1,len(model_moon.history[\"loss\"])+1))\n",
    "\n",
    "# Plot the loss\n",
    "history_df.plot(y=\"loss\")"
   ]
  },
  {
   "cell_type": "code",
   "execution_count": 19,
   "metadata": {},
   "outputs": [
    {
     "data": {
      "text/plain": [
       "<matplotlib.axes._subplots.AxesSubplot at 0x21d9ebc8588>"
      ]
     },
     "execution_count": 19,
     "metadata": {},
     "output_type": "execute_result"
    },
    {
     "data": {
      "image/png": "[encoded data removed]",
      "text/plain": [
       "<Figure size 432x288 with 1 Axes>"
      ]
     },
     "metadata": {
      "needs_background": "light"
     },
     "output_type": "display_data"
    }
   ],
   "source": [
    "# Plot the loss\n",
    "history_df.plot(y=\"accuracy\")"
   ]
  },
  {
   "cell_type": "code",
   "execution_count": 20,
   "metadata": {},
   "outputs": [],
   "source": [
    "# Generate our new Sequential model\n",
    "new_model = tf.keras.models.Sequential()"
   ]
  },
  {
   "cell_type": "code",
   "execution_count": 21,
   "metadata": {},
   "outputs": [],
   "source": [
    "# Add the input and hidden layer\n",
    "number_inputs = 2\n",
    "number_hidden_nodes = 6\n",
    "\n",
    "new_model.add(tf.keras.layers.Dense(units=number_hidden_nodes, activation=\"relu\", input_dim=number_inputs))\n",
    "\n",
    "# Add the output layer that uses a probability activation function\n",
    "new_model.add(tf.keras.layers.Dense(units=1, activation=\"sigmoid\"))"
   ]
  },
  {
   "cell_type": "code",
   "execution_count": 22,
   "metadata": {},
   "outputs": [
    {
     "name": "stdout",
     "output_type": "stream",
     "text": [
      "Train on 750 samples\n",
      "Epoch 1/100\n",
      "750/750 [==============================] - 0s 594us/sample - loss: 0.6438 - accuracy: 0.5440\n",
      "Epoch 2/100\n",
      "750/750 [==============================] - 0s 45us/sample - loss: 0.6134 - accuracy: 0.5787\n",
      "Epoch 3/100\n",
      "750/750 [==============================] - 0s 47us/sample - loss: 0.5863 - accuracy: 0.6147\n",
      "Epoch 4/100\n",
      "750/750 [==============================] - 0s 48us/sample - loss: 0.5614 - accuracy: 0.6427\n",
      "Epoch 5/100\n",
      "750/750 [==============================] - 0s 49us/sample - loss: 0.5384 - accuracy: 0.6973\n",
      "Epoch 6/100\n",
      "750/750 [==============================] - 0s 49us/sample - loss: 0.5166 - accuracy: 0.7360\n",
      "Epoch 7/100\n",
      "750/750 [==============================] - 0s 48us/sample - loss: 0.4959 - accuracy: 0.7600\n",
      "Epoch 8/100\n",
      "750/750 [==============================] - 0s 53us/sample - loss: 0.4761 - accuracy: 0.8080\n",
      "Epoch 9/100\n",
      "750/750 [==============================] - 0s 51us/sample - loss: 0.4573 - accuracy: 0.8880\n",
      "Epoch 10/100\n",
      "750/750 [==============================] - ETA: 0s - loss: 0.4247 - accuracy: 0.87 - 0s 51us/sample - loss: 0.4395 - accuracy: 0.8840\n",
      "Epoch 11/100\n",
      "750/750 [==============================] - 0s 55us/sample - loss: 0.4225 - accuracy: 0.8813\n",
      "Epoch 12/100\n",
      "750/750 [==============================] - 0s 52us/sample - loss: 0.4065 - accuracy: 0.8800\n",
      "Epoch 13/100\n",
      "750/750 [==============================] - 0s 53us/sample - loss: 0.3917 - accuracy: 0.8773\n",
      "Epoch 14/100\n",
      "750/750 [==============================] - 0s 59us/sample - loss: 0.3783 - accuracy: 0.8760\n",
      "Epoch 15/100\n",
      "750/750 [==============================] - 0s 59us/sample - loss: 0.3662 - accuracy: 0.8760\n",
      "Epoch 16/100\n",
      "750/750 [==============================] - 0s 57us/sample - loss: 0.3555 - accuracy: 0.8747\n",
      "Epoch 17/100\n",
      "750/750 [==============================] - 0s 56us/sample - loss: 0.3458 - accuracy: 0.8733\n",
      "Epoch 18/100\n",
      "750/750 [==============================] - 0s 56us/sample - loss: 0.3373 - accuracy: 0.8733\n",
      "Epoch 19/100\n",
      "750/750 [==============================] - 0s 58us/sample - loss: 0.3298 - accuracy: 0.8720\n",
      "Epoch 20/100\n",
      "750/750 [==============================] - 0s 60us/sample - loss: 0.3229 - accuracy: 0.8720\n",
      "Epoch 21/100\n",
      "750/750 [==============================] - 0s 55us/sample - loss: 0.3167 - accuracy: 0.8733\n",
      "Epoch 22/100\n",
      "750/750 [==============================] - 0s 60us/sample - loss: 0.3113 - accuracy: 0.8760\n",
      "Epoch 23/100\n",
      "750/750 [==============================] - 0s 58us/sample - loss: 0.3063 - accuracy: 0.8760\n",
      "Epoch 24/100\n",
      "750/750 [==============================] - 0s 56us/sample - loss: 0.3018 - accuracy: 0.8760\n",
      "Epoch 25/100\n",
      "750/750 [==============================] - 0s 57us/sample - loss: 0.2978 - accuracy: 0.8773\n",
      "Epoch 26/100\n",
      "750/750 [==============================] - 0s 56us/sample - loss: 0.2942 - accuracy: 0.8800\n",
      "Epoch 27/100\n",
      "750/750 [==============================] - 0s 56us/sample - loss: 0.2908 - accuracy: 0.8800\n",
      "Epoch 28/100\n",
      "750/750 [==============================] - 0s 54us/sample - loss: 0.2878 - accuracy: 0.8813\n",
      "Epoch 29/100\n",
      "750/750 [==============================] - 0s 58us/sample - loss: 0.2851 - accuracy: 0.8813\n",
      "Epoch 30/100\n",
      "750/750 [==============================] - 0s 57us/sample - loss: 0.2825 - accuracy: 0.8813\n",
      "Epoch 31/100\n",
      "750/750 [==============================] - 0s 55us/sample - loss: 0.2800 - accuracy: 0.8813\n",
      "Epoch 32/100\n",
      "750/750 [==============================] - 0s 57us/sample - loss: 0.2777 - accuracy: 0.8813\n",
      "Epoch 33/100\n",
      "750/750 [==============================] - 0s 57us/sample - loss: 0.2755 - accuracy: 0.8840\n",
      "Epoch 34/100\n",
      "750/750 [==============================] - 0s 56us/sample - loss: 0.2735 - accuracy: 0.8853\n",
      "Epoch 35/100\n",
      "750/750 [==============================] - 0s 59us/sample - loss: 0.2716 - accuracy: 0.8853\n",
      "Epoch 36/100\n",
      "750/750 [==============================] - 0s 65us/sample - loss: 0.2697 - accuracy: 0.8853\n",
      "Epoch 37/100\n",
      "750/750 [==============================] - 0s 64us/sample - loss: 0.2681 - accuracy: 0.8867\n",
      "Epoch 38/100\n",
      "750/750 [==============================] - 0s 61us/sample - loss: 0.2665 - accuracy: 0.8867\n",
      "Epoch 39/100\n",
      "750/750 [==============================] - 0s 60us/sample - loss: 0.2651 - accuracy: 0.8893\n",
      "Epoch 40/100\n",
      "750/750 [==============================] - 0s 57us/sample - loss: 0.2637 - accuracy: 0.8893\n",
      "Epoch 41/100\n",
      "750/750 [==============================] - 0s 62us/sample - loss: 0.2624 - accuracy: 0.8907\n",
      "Epoch 42/100\n",
      "750/750 [==============================] - 0s 60us/sample - loss: 0.2611 - accuracy: 0.8893\n",
      "Epoch 43/100\n",
      "750/750 [==============================] - 0s 66us/sample - loss: 0.2600 - accuracy: 0.8893\n",
      "Epoch 44/100\n",
      "750/750 [==============================] - 0s 66us/sample - loss: 0.2589 - accuracy: 0.8907\n",
      "Epoch 45/100\n",
      "750/750 [==============================] - 0s 64us/sample - loss: 0.2578 - accuracy: 0.8907\n",
      "Epoch 46/100\n",
      "750/750 [==============================] - 0s 65us/sample - loss: 0.2570 - accuracy: 0.8933\n",
      "Epoch 47/100\n",
      "750/750 [==============================] - 0s 64us/sample - loss: 0.2558 - accuracy: 0.8933\n",
      "Epoch 48/100\n",
      "750/750 [==============================] - 0s 60us/sample - loss: 0.2549 - accuracy: 0.8933\n",
      "Epoch 49/100\n",
      "750/750 [==============================] - 0s 61us/sample - loss: 0.2540 - accuracy: 0.8933\n",
      "Epoch 50/100\n",
      "750/750 [==============================] - 0s 63us/sample - loss: 0.2531 - accuracy: 0.8947\n",
      "Epoch 51/100\n",
      "750/750 [==============================] - 0s 53us/sample - loss: 0.2522 - accuracy: 0.8947\n",
      "Epoch 52/100\n",
      "750/750 [==============================] - 0s 51us/sample - loss: 0.2514 - accuracy: 0.8960\n",
      "Epoch 53/100\n",
      "750/750 [==============================] - 0s 55us/sample - loss: 0.2505 - accuracy: 0.8960\n",
      "Epoch 54/100\n",
      "750/750 [==============================] - 0s 53us/sample - loss: 0.2497 - accuracy: 0.8973\n",
      "Epoch 55/100\n",
      "750/750 [==============================] - 0s 53us/sample - loss: 0.2489 - accuracy: 0.8973\n",
      "Epoch 56/100\n",
      "750/750 [==============================] - 0s 48us/sample - loss: 0.2479 - accuracy: 0.8987\n",
      "Epoch 57/100\n",
      "750/750 [==============================] - 0s 48us/sample - loss: 0.2471 - accuracy: 0.8987\n",
      "Epoch 58/100\n",
      "750/750 [==============================] - 0s 55us/sample - loss: 0.2464 - accuracy: 0.8987\n",
      "Epoch 59/100\n",
      "750/750 [==============================] - 0s 53us/sample - loss: 0.2454 - accuracy: 0.9000\n",
      "Epoch 60/100\n",
      "750/750 [==============================] - 0s 58us/sample - loss: 0.2446 - accuracy: 0.9000\n",
      "Epoch 61/100\n",
      "750/750 [==============================] - 0s 55us/sample - loss: 0.2436 - accuracy: 0.9000\n",
      "Epoch 62/100\n",
      "750/750 [==============================] - 0s 55us/sample - loss: 0.2429 - accuracy: 0.9000\n",
      "Epoch 63/100\n",
      "750/750 [==============================] - 0s 54us/sample - loss: 0.2418 - accuracy: 0.9000\n",
      "Epoch 64/100\n",
      "750/750 [==============================] - 0s 50us/sample - loss: 0.2409 - accuracy: 0.9000\n",
      "Epoch 65/100\n",
      "750/750 [==============================] - 0s 56us/sample - loss: 0.2399 - accuracy: 0.9000\n",
      "Epoch 66/100\n",
      "750/750 [==============================] - 0s 56us/sample - loss: 0.2390 - accuracy: 0.9000\n",
      "Epoch 67/100\n",
      "750/750 [==============================] - 0s 53us/sample - loss: 0.2380 - accuracy: 0.9000\n",
      "Epoch 68/100\n",
      "750/750 [==============================] - 0s 59us/sample - loss: 0.2371 - accuracy: 0.9000\n",
      "Epoch 69/100\n",
      "750/750 [==============================] - 0s 55us/sample - loss: 0.2362 - accuracy: 0.9013\n",
      "Epoch 70/100\n",
      "750/750 [==============================] - 0s 56us/sample - loss: 0.2353 - accuracy: 0.9013\n",
      "Epoch 71/100\n",
      "750/750 [==============================] - 0s 56us/sample - loss: 0.2344 - accuracy: 0.9013\n",
      "Epoch 72/100\n",
      "750/750 [==============================] - 0s 55us/sample - loss: 0.2335 - accuracy: 0.9013\n",
      "Epoch 73/100\n",
      "750/750 [==============================] - 0s 59us/sample - loss: 0.2325 - accuracy: 0.9027\n",
      "Epoch 74/100\n",
      "750/750 [==============================] - 0s 56us/sample - loss: 0.2315 - accuracy: 0.9027\n",
      "Epoch 75/100\n",
      "750/750 [==============================] - 0s 57us/sample - loss: 0.2305 - accuracy: 0.9027\n",
      "Epoch 76/100\n",
      "750/750 [==============================] - 0s 55us/sample - loss: 0.2297 - accuracy: 0.9027\n",
      "Epoch 77/100\n",
      "750/750 [==============================] - 0s 57us/sample - loss: 0.2286 - accuracy: 0.9040\n",
      "Epoch 78/100\n"
     ]
    },
    {
     "name": "stdout",
     "output_type": "stream",
     "text": [
      "750/750 [==============================] - 0s 55us/sample - loss: 0.2275 - accuracy: 0.9040\n",
      "Epoch 79/100\n",
      "750/750 [==============================] - 0s 55us/sample - loss: 0.2265 - accuracy: 0.9040\n",
      "Epoch 80/100\n",
      "750/750 [==============================] - 0s 53us/sample - loss: 0.2254 - accuracy: 0.9040\n",
      "Epoch 81/100\n",
      "750/750 [==============================] - 0s 52us/sample - loss: 0.2243 - accuracy: 0.9040\n",
      "Epoch 82/100\n",
      "750/750 [==============================] - 0s 53us/sample - loss: 0.2232 - accuracy: 0.9053\n",
      "Epoch 83/100\n",
      "750/750 [==============================] - 0s 54us/sample - loss: 0.2220 - accuracy: 0.9067\n",
      "Epoch 84/100\n",
      "750/750 [==============================] - 0s 51us/sample - loss: 0.2209 - accuracy: 0.9080\n",
      "Epoch 85/100\n",
      "750/750 [==============================] - 0s 55us/sample - loss: 0.2198 - accuracy: 0.9080\n",
      "Epoch 86/100\n",
      "750/750 [==============================] - 0s 52us/sample - loss: 0.2186 - accuracy: 0.9080\n",
      "Epoch 87/100\n",
      "750/750 [==============================] - 0s 53us/sample - loss: 0.2175 - accuracy: 0.9107\n",
      "Epoch 88/100\n",
      "750/750 [==============================] - 0s 49us/sample - loss: 0.2163 - accuracy: 0.9107\n",
      "Epoch 89/100\n",
      "750/750 [==============================] - 0s 53us/sample - loss: 0.2151 - accuracy: 0.9107\n",
      "Epoch 90/100\n",
      "750/750 [==============================] - 0s 52us/sample - loss: 0.2138 - accuracy: 0.9107\n",
      "Epoch 91/100\n",
      "750/750 [==============================] - 0s 52us/sample - loss: 0.2126 - accuracy: 0.9107\n",
      "Epoch 92/100\n",
      "750/750 [==============================] - 0s 50us/sample - loss: 0.2115 - accuracy: 0.9107\n",
      "Epoch 93/100\n",
      "750/750 [==============================] - 0s 53us/sample - loss: 0.2102 - accuracy: 0.9107\n",
      "Epoch 94/100\n",
      "750/750 [==============================] - 0s 53us/sample - loss: 0.2089 - accuracy: 0.9120\n",
      "Epoch 95/100\n",
      "750/750 [==============================] - 0s 53us/sample - loss: 0.2078 - accuracy: 0.9133\n",
      "Epoch 96/100\n",
      "750/750 [==============================] - 0s 52us/sample - loss: 0.2067 - accuracy: 0.9133\n",
      "Epoch 97/100\n",
      "750/750 [==============================] - 0s 53us/sample - loss: 0.2053 - accuracy: 0.9147\n",
      "Epoch 98/100\n",
      "750/750 [==============================] - 0s 51us/sample - loss: 0.2040 - accuracy: 0.9160\n",
      "Epoch 99/100\n",
      "750/750 [==============================] - 0s 51us/sample - loss: 0.2027 - accuracy: 0.9160\n",
      "Epoch 100/100\n",
      "750/750 [==============================] - 0s 54us/sample - loss: 0.2014 - accuracy: 0.9160\n"
     ]
    }
   ],
   "source": [
    "# Compile the Sequential model together and customize metrics\n",
    "new_model.compile(loss=\"binary_crossentropy\", optimizer=\"adam\", metrics=[\"accuracy\"])\n",
    "\n",
    "# Fit the model to the training data\n",
    "new_fit_model = new_model.fit(X_moon_train_scaled, y_moon_train, epochs=100, shuffle=True)\n"
   ]
  },
  {
   "cell_type": "code",
   "execution_count": null,
   "metadata": {},
   "outputs": [],
   "source": []
  }
 ],
 "metadata": {
  "kernelspec": {
   "display_name": "PythonData",
   "language": "python",
   "name": "pythondata"
  },
  "language_info": {
   "codemirror_mode": {
    "name": "ipython",
    "version": 3
   },
   "file_extension": ".py",
   "mimetype": "text/x-python",
   "name": "python",
   "nbconvert_exporter": "python",
   "pygments_lexer": "ipython3",
   "version": "3.6.10"
  }
 },
 "nbformat": 4,
 "nbformat_minor": 4
}
